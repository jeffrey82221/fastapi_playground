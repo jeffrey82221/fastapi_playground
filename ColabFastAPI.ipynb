{
  "nbformat": 4,
  "nbformat_minor": 0,
  "metadata": {
    "colab": {
      "provenance": [],
      "collapsed_sections": [],
      "authorship_tag": "ABX9TyOZtgQSi68hSY2XuR7Gr5TU",
      "include_colab_link": true
    },
    "kernelspec": {
      "name": "python3",
      "display_name": "Python 3"
    },
    "language_info": {
      "name": "python"
    }
  },
  "cells": [
    {
      "cell_type": "markdown",
      "metadata": {
        "id": "view-in-github",
        "colab_type": "text"
      },
      "source": [
        "<a href=\"https://colab.research.google.com/github/jeffrey82221/fastapi_playground/blob/main/ColabFastAPI.ipynb\" target=\"_parent\"><img src=\"https://colab.research.google.com/assets/colab-badge.svg\" alt=\"Open In Colab\"/></a>"
      ]
    },
    {
      "cell_type": "code",
      "execution_count": 1,
      "metadata": {
        "colab": {
          "base_uri": "https://localhost:8080/"
        },
        "id": "kWux2V7OTi5m",
        "outputId": "d6fd0624-3d74-4d32-e647-8314b01ff89b"
      },
      "outputs": [
        {
          "output_type": "stream",
          "name": "stdout",
          "text": [
            "Mounted at /content/drive\n"
          ]
        }
      ],
      "source": [
        "from google.colab import drive\n",
        "drive.mount('/content/drive')"
      ]
    },
    {
      "cell_type": "code",
      "source": [
        "!pip install -r drive/MyDrive/github/fastapi_playground/requirements.txt"
      ],
      "metadata": {
        "colab": {
          "base_uri": "https://localhost:8080/"
        },
        "id": "W98RFK_HT0lF",
        "outputId": "612db051-db06-4f03-a80d-63de22558c20"
      },
      "execution_count": 1,
      "outputs": [
        {
          "output_type": "stream",
          "name": "stdout",
          "text": [
            "Looking in indexes: https://pypi.org/simple, https://us-python.pkg.dev/colab-wheels/public/simple/\n",
            "Requirement already satisfied: ray==2.0.0 in /usr/local/lib/python3.7/dist-packages (from -r drive/MyDrive/github/fastapi_playground/requirements.txt (line 1)) (2.0.0)\n",
            "Requirement already satisfied: fastapi==0.85.0 in /usr/local/lib/python3.7/dist-packages (from -r drive/MyDrive/github/fastapi_playground/requirements.txt (line 2)) (0.85.0)\n",
            "Requirement already satisfied: urllib3==1.26.12 in /usr/local/lib/python3.7/dist-packages (from -r drive/MyDrive/github/fastapi_playground/requirements.txt (line 3)) (1.26.12)\n",
            "Requirement already satisfied: uvicorn==0.16.0 in /usr/local/lib/python3.7/dist-packages (from -r drive/MyDrive/github/fastapi_playground/requirements.txt (line 4)) (0.16.0)\n",
            "Requirement already satisfied: pyngrok==5.1.0 in /usr/local/lib/python3.7/dist-packages (from -r drive/MyDrive/github/fastapi_playground/requirements.txt (line 5)) (5.1.0)\n",
            "Requirement already satisfied: pydantic==1.10.2 in /usr/local/lib/python3.7/dist-packages (from -r drive/MyDrive/github/fastapi_playground/requirements.txt (line 6)) (1.10.2)\n",
            "Requirement already satisfied: requests==2.28.1 in /usr/local/lib/python3.7/dist-packages (from -r drive/MyDrive/github/fastapi_playground/requirements.txt (line 7)) (2.28.1)\n",
            "Requirement already satisfied: nest_asyncio==1.5.5 in /usr/local/lib/python3.7/dist-packages (from -r drive/MyDrive/github/fastapi_playground/requirements.txt (line 8)) (1.5.5)\n",
            "Requirement already satisfied: aiorwlock==1.3.0 in /usr/local/lib/python3.7/dist-packages (from -r drive/MyDrive/github/fastapi_playground/requirements.txt (line 9)) (1.3.0)\n",
            "Requirement already satisfied: protobuf<4.0.0,>=3.15.3 in /usr/local/lib/python3.7/dist-packages (from ray==2.0.0->-r drive/MyDrive/github/fastapi_playground/requirements.txt (line 1)) (3.17.3)\n",
            "Requirement already satisfied: pyyaml in /usr/local/lib/python3.7/dist-packages (from ray==2.0.0->-r drive/MyDrive/github/fastapi_playground/requirements.txt (line 1)) (6.0)\n",
            "Requirement already satisfied: virtualenv in /usr/local/lib/python3.7/dist-packages (from ray==2.0.0->-r drive/MyDrive/github/fastapi_playground/requirements.txt (line 1)) (20.16.5)\n",
            "Requirement already satisfied: aiosignal in /usr/local/lib/python3.7/dist-packages (from ray==2.0.0->-r drive/MyDrive/github/fastapi_playground/requirements.txt (line 1)) (1.2.0)\n",
            "Requirement already satisfied: numpy>=1.16 in /usr/local/lib/python3.7/dist-packages (from ray==2.0.0->-r drive/MyDrive/github/fastapi_playground/requirements.txt (line 1)) (1.21.6)\n",
            "Requirement already satisfied: click<=8.0.4,>=7.0 in /usr/local/lib/python3.7/dist-packages (from ray==2.0.0->-r drive/MyDrive/github/fastapi_playground/requirements.txt (line 1)) (7.1.2)\n",
            "Requirement already satisfied: attrs in /usr/local/lib/python3.7/dist-packages (from ray==2.0.0->-r drive/MyDrive/github/fastapi_playground/requirements.txt (line 1)) (22.1.0)\n",
            "Requirement already satisfied: msgpack<2.0.0,>=1.0.0 in /usr/local/lib/python3.7/dist-packages (from ray==2.0.0->-r drive/MyDrive/github/fastapi_playground/requirements.txt (line 1)) (1.0.4)\n",
            "Requirement already satisfied: filelock in /usr/local/lib/python3.7/dist-packages (from ray==2.0.0->-r drive/MyDrive/github/fastapi_playground/requirements.txt (line 1)) (3.8.0)\n",
            "Requirement already satisfied: frozenlist in /usr/local/lib/python3.7/dist-packages (from ray==2.0.0->-r drive/MyDrive/github/fastapi_playground/requirements.txt (line 1)) (1.3.1)\n",
            "Requirement already satisfied: grpcio<=1.43.0,>=1.28.1 in /usr/local/lib/python3.7/dist-packages (from ray==2.0.0->-r drive/MyDrive/github/fastapi_playground/requirements.txt (line 1)) (1.43.0)\n",
            "Requirement already satisfied: typing-extensions in /usr/local/lib/python3.7/dist-packages (from ray==2.0.0->-r drive/MyDrive/github/fastapi_playground/requirements.txt (line 1)) (4.1.1)\n",
            "Requirement already satisfied: jsonschema in /usr/local/lib/python3.7/dist-packages (from ray==2.0.0->-r drive/MyDrive/github/fastapi_playground/requirements.txt (line 1)) (4.3.3)\n",
            "Requirement already satisfied: starlette==0.20.4 in /usr/local/lib/python3.7/dist-packages (from fastapi==0.85.0->-r drive/MyDrive/github/fastapi_playground/requirements.txt (line 2)) (0.20.4)\n",
            "Requirement already satisfied: asgiref>=3.4.0 in /usr/local/lib/python3.7/dist-packages (from uvicorn==0.16.0->-r drive/MyDrive/github/fastapi_playground/requirements.txt (line 4)) (3.5.2)\n",
            "Requirement already satisfied: h11>=0.8 in /usr/local/lib/python3.7/dist-packages (from uvicorn==0.16.0->-r drive/MyDrive/github/fastapi_playground/requirements.txt (line 4)) (0.13.0)\n",
            "Requirement already satisfied: charset-normalizer<3,>=2 in /usr/local/lib/python3.7/dist-packages (from requests==2.28.1->-r drive/MyDrive/github/fastapi_playground/requirements.txt (line 7)) (2.1.1)\n",
            "Requirement already satisfied: idna<4,>=2.5 in /usr/local/lib/python3.7/dist-packages (from requests==2.28.1->-r drive/MyDrive/github/fastapi_playground/requirements.txt (line 7)) (2.10)\n",
            "Requirement already satisfied: certifi>=2017.4.17 in /usr/local/lib/python3.7/dist-packages (from requests==2.28.1->-r drive/MyDrive/github/fastapi_playground/requirements.txt (line 7)) (2022.6.15)\n",
            "Requirement already satisfied: anyio<5,>=3.4.0 in /usr/local/lib/python3.7/dist-packages (from starlette==0.20.4->fastapi==0.85.0->-r drive/MyDrive/github/fastapi_playground/requirements.txt (line 2)) (3.6.1)\n",
            "Requirement already satisfied: sniffio>=1.1 in /usr/local/lib/python3.7/dist-packages (from anyio<5,>=3.4.0->starlette==0.20.4->fastapi==0.85.0->-r drive/MyDrive/github/fastapi_playground/requirements.txt (line 2)) (1.3.0)\n",
            "Requirement already satisfied: six>=1.5.2 in /usr/local/lib/python3.7/dist-packages (from grpcio<=1.43.0,>=1.28.1->ray==2.0.0->-r drive/MyDrive/github/fastapi_playground/requirements.txt (line 1)) (1.15.0)\n",
            "Requirement already satisfied: importlib-resources>=1.4.0 in /usr/local/lib/python3.7/dist-packages (from jsonschema->ray==2.0.0->-r drive/MyDrive/github/fastapi_playground/requirements.txt (line 1)) (5.9.0)\n",
            "Requirement already satisfied: pyrsistent!=0.17.0,!=0.17.1,!=0.17.2,>=0.14.0 in /usr/local/lib/python3.7/dist-packages (from jsonschema->ray==2.0.0->-r drive/MyDrive/github/fastapi_playground/requirements.txt (line 1)) (0.18.1)\n",
            "Requirement already satisfied: importlib-metadata in /usr/local/lib/python3.7/dist-packages (from jsonschema->ray==2.0.0->-r drive/MyDrive/github/fastapi_playground/requirements.txt (line 1)) (4.12.0)\n",
            "Requirement already satisfied: zipp>=3.1.0 in /usr/local/lib/python3.7/dist-packages (from importlib-resources>=1.4.0->jsonschema->ray==2.0.0->-r drive/MyDrive/github/fastapi_playground/requirements.txt (line 1)) (3.8.1)\n",
            "Requirement already satisfied: platformdirs<3,>=2.4 in /usr/local/lib/python3.7/dist-packages (from virtualenv->ray==2.0.0->-r drive/MyDrive/github/fastapi_playground/requirements.txt (line 1)) (2.5.2)\n",
            "Requirement already satisfied: distlib<1,>=0.3.5 in /usr/local/lib/python3.7/dist-packages (from virtualenv->ray==2.0.0->-r drive/MyDrive/github/fastapi_playground/requirements.txt (line 1)) (0.3.6)\n"
          ]
        }
      ]
    },
    {
      "cell_type": "code",
      "source": [
        "!python drive/MyDrive/github/fastapi_playground/porting.py"
      ],
      "metadata": {
        "colab": {
          "base_uri": "https://localhost:8080/"
        },
        "id": "Lbz-jxczUXxD",
        "outputId": "4655ad73-0e39-4f7d-e140-09ce1c751d8b"
      },
      "execution_count": null,
      "outputs": [
        {
          "output_type": "stream",
          "name": "stdout",
          "text": [
            "2022-09-24 12:00:25,503\tINFO worker.py:1333 -- Connecting to existing Ray cluster at address: 172.28.0.2:6379...\n",
            "2022-09-24 12:00:25,511\tINFO worker.py:1518 -- Connected to Ray cluster.\n",
            "Public URL: http://c26c-35-245-61-122.ngrok.io\n",
            "\u001b[32mINFO\u001b[0m:     Started server process [\u001b[36m1301\u001b[0m]\n",
            "\u001b[32mINFO\u001b[0m:     Waiting for application startup.\n",
            "\u001b[32mINFO\u001b[0m:     Application startup complete.\n",
            "\u001b[32mINFO\u001b[0m:     Uvicorn running on \u001b[1mhttp://127.0.0.1:9999\u001b[0m (Press CTRL+C to quit)\n",
            "start executing: demo_func\n",
            "eval_str: demo_func()\n",
            "Inside the function:\n",
            "Hello World\n",
            "create parquet\n",
            "end executing: demo_func\n",
            "\u001b[32mINFO\u001b[0m:     2606:54c0:7440:38::50:a2:0 - \"\u001b[1mGET /?python_func=def+demo_func%28%29%3A%0A++++print%28%27Inside+the+function%3A%27%29%0A++++print%28%27Hello+World%27%29%0A++++print%28%27create+parquet%27%29%0A++++import+pandas+as+pd%0A++++pd.DataFrame%28%5B1%2C+2%2C+3%5D%2C+columns%3D%5B%27number%27%5D%29.to_parquet%28%27tmp.parquet%27%29%0A&func_name=demo_func&input_str= HTTP/1.1\u001b[0m\" \u001b[32m200 OK\u001b[0m\n",
            "start executing: run\n",
            "eval_str: run(\"self\")\n",
            "Inside a class method\n",
            "Hello World\n",
            "end executing: run\n",
            "\u001b[32mINFO\u001b[0m:     2606:54c0:7440:38::50:a2:0 - \"\u001b[1mGET /?python_func=def+run%28self%29%3A%0A++++import+time%0A++++print%28%27Inside+a+class+method%27%29%0A++++print%28%22Hello+World%22%29%0A++++time.sleep%280.5%29%0A&func_name=run&input_str=%22self%22 HTTP/1.1\u001b[0m\" \u001b[32m200 OK\u001b[0m\n",
            "start executing: demo_func\n",
            "eval_str: demo_func()\n",
            "Inside the function:\n",
            "Hello World\n",
            "create parquet\n",
            "end executing: demo_func\n",
            "\u001b[32mINFO\u001b[0m:     2606:54c0:7440:38::50:a2:0 - \"\u001b[1mGET /?python_func=def+demo_func%28%29%3A%0A++++print%28%27Inside+the+function%3A%27%29%0A++++print%28%27Hello+World%27%29%0A++++print%28%27create+parquet%27%29%0A++++import+pandas+as+pd%0A++++pd.DataFrame%28%5B1%2C+2%2C+3%5D%2C+columns%3D%5B%27number%27%5D%29.to_parquet%28%27tmp.parquet%27%29%0A&func_name=demo_func&input_str= HTTP/1.1\u001b[0m\" \u001b[32m200 OK\u001b[0m\n",
            "start executing: run\n",
            "eval_str: run(\"self\")\n",
            "Inside a class method\n",
            "Hello World\n",
            "end executing: run\n",
            "\u001b[32mINFO\u001b[0m:     2606:54c0:7440:38::50:a2:0 - \"\u001b[1mGET /?python_func=def+run%28self%29%3A%0A++++import+time%0A++++print%28%27Inside+a+class+method%27%29%0A++++print%28%22Hello+World%22%29%0A++++time.sleep%280.5%29%0A&func_name=run&input_str=%22self%22 HTTP/1.1\u001b[0m\" \u001b[32m200 OK\u001b[0m\n"
          ]
        }
      ]
    }
  ]
}